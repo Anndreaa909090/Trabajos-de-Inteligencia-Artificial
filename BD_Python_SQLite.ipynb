{
 "cells": [
  {
   "cell_type": "markdown",
   "id": "ae555969",
   "metadata": {},
   "source": [
    "# CURSO DE FUNDAMENTOS DE PYTHON  \n",
    "## Base de Datos con **SQLite** desde Python\n",
    "\n",
    "**Objetivos**\n",
    "- Conectar a SQLite con `sqlite3` (sin instalar nada extra).\n",
    "- Crear esquema y realizar operaciones **CRUD** con consultas **parametrizadas**.\n",
    "- Usar **transacciones**, manejo de **excepciones** y **pandas** para análisis.\n",
    "- Validar con `assert` que las operaciones se ejecutaron correctamente."
   ]
  },
  {
   "cell_type": "markdown",
   "id": "ffa2ece2",
   "metadata": {},
   "source": [
    "### 0) Preparación del entorno"
   ]
  },
  {
   "cell_type": "code",
   "execution_count": 1,
   "id": "1ebca861",
   "metadata": {},
   "outputs": [
    {
     "name": "stdout",
     "output_type": "stream",
     "text": [
      "Conectado a: e:\\Archivos (1)\\sqlite_demo.db\n"
     ]
    }
   ],
   "source": [
    "# No requiere instalación: 'sqlite3' viene con la librería estándar de Python.\n",
    "import sqlite3, os, time\n",
    "from pathlib import Path\n",
    "\n",
    "DB_PATH = Path.cwd() / \"sqlite_demo.db\"\n",
    "if DB_PATH.exists():\n",
    "    DB_PATH.unlink()  # Reiniciar base para prácticas reproducibles\n",
    "\n",
    "conn = sqlite3.connect(DB_PATH)  # crea el archivo si no existe\n",
    "conn.execute(\"PRAGMA foreign_keys = ON;\")\n",
    "conn.row_factory = sqlite3.Row  # para acceder por nombre de columna\n",
    "print(\"Conectado a:\", DB_PATH)"
   ]
  },
  {
   "cell_type": "markdown",
   "id": "7387b0dc",
   "metadata": {},
   "source": [
    "### 1) Crear esquema"
   ]
  },
  {
   "cell_type": "code",
   "execution_count": 2,
   "id": "60a62463",
   "metadata": {},
   "outputs": [
    {
     "name": "stdout",
     "output_type": "stream",
     "text": [
      "Tabla 'alumnos' creada.\n"
     ]
    }
   ],
   "source": [
    "with conn:\n",
    "    conn.execute(\"\"\"\n",
    "    CREATE TABLE alumnos (\n",
    "        id INTEGER PRIMARY KEY AUTOINCREMENT,\n",
    "        nombre TEXT NOT NULL,\n",
    "        carrera TEXT NOT NULL,\n",
    "        nota REAL CHECK(nota BETWEEN 0 AND 10),\n",
    "        creado_en TIMESTAMP DEFAULT CURRENT_TIMESTAMP\n",
    "    );\n",
    "    \"\"\")\n",
    "print(\"Tabla 'alumnos' creada.\")"
   ]
  },
  {
   "cell_type": "markdown",
   "id": "a989fbf8",
   "metadata": {},
   "source": [
    "### 2) INSERT (parametrizado)"
   ]
  },
  {
   "cell_type": "code",
   "execution_count": 3,
   "id": "087b5ce9",
   "metadata": {},
   "outputs": [
    {
     "name": "stdout",
     "output_type": "stream",
     "text": [
      "Insertados: 5\n"
     ]
    }
   ],
   "source": [
    "alumnos = [\n",
    "    (\"Ana\", \"Big Data\", 9.2),\n",
    "    (\"Luis\", \"Desarrollo\", 7.8),\n",
    "    (\"María\", \"Big Data\", 8.9),\n",
    "    (\"Pedro\", \"Ciberseguridad\", 6.5),\n",
    "    (\"Julia\", \"Big Data\", 9.8),\n",
    "]\n",
    "with conn:\n",
    "    conn.executemany(\n",
    "        \"INSERT INTO alumnos(nombre, carrera, nota) VALUES (?, ?, ?)\",\n",
    "        alumnos\n",
    "    )\n",
    "total = conn.execute(\"SELECT COUNT(*) AS c FROM alumnos\").fetchone()[\"c\"]\n",
    "print(\"Insertados:\", total)"
   ]
  },
  {
   "cell_type": "markdown",
   "id": "618f9a83",
   "metadata": {},
   "source": [
    "### 3) SELECT básicos"
   ]
  },
  {
   "cell_type": "code",
   "execution_count": 4,
   "id": "db582e39",
   "metadata": {},
   "outputs": [
    {
     "name": "stdout",
     "output_type": "stream",
     "text": [
      "{'id': 1, 'nombre': 'Ana', 'carrera': 'Big Data', 'nota': 9.2}\n",
      "{'id': 2, 'nombre': 'Luis', 'carrera': 'Desarrollo', 'nota': 7.8}\n",
      "{'id': 3, 'nombre': 'María', 'carrera': 'Big Data', 'nota': 8.9}\n",
      "{'id': 4, 'nombre': 'Pedro', 'carrera': 'Ciberseguridad', 'nota': 6.5}\n",
      "{'id': 5, 'nombre': 'Julia', 'carrera': 'Big Data', 'nota': 9.8}\n",
      "\n",
      "Solo Big Data con nota >= 9:\n",
      "{'nombre': 'Julia', 'nota': 9.8}\n",
      "{'nombre': 'Ana', 'nota': 9.2}\n"
     ]
    }
   ],
   "source": [
    "# Todos\n",
    "for row in conn.execute(\"SELECT id, nombre, carrera, nota FROM alumnos\"):\n",
    "    print(dict(row))\n",
    "\n",
    "# Filtrados\n",
    "print(\"\\nSolo Big Data con nota >= 9:\")\n",
    "sql = \"SELECT nombre, nota FROM alumnos WHERE carrera=? AND nota>=? ORDER BY nota DESC\"\n",
    "for row in conn.execute(sql, (\"Big Data\", 9.0)):\n",
    "    print(dict(row))"
   ]
  },
  {
   "cell_type": "markdown",
   "id": "5f270d5c",
   "metadata": {},
   "source": [
    "### 4) UPDATE y DELETE (parametrizados)"
   ]
  },
  {
   "cell_type": "code",
   "execution_count": 5,
   "id": "7e5d51ab",
   "metadata": {},
   "outputs": [
    {
     "name": "stdout",
     "output_type": "stream",
     "text": [
      "¿Existe Luis? False\n"
     ]
    }
   ],
   "source": [
    "with conn:\n",
    "    conn.execute(\"UPDATE alumnos SET nota = ? WHERE nombre = ?\", (8.0, \"Pedro\"))\n",
    "    conn.execute(\"DELETE FROM alumnos WHERE nombre = ?\", (\"Luis\",))\n",
    "r = conn.execute(\"SELECT COUNT(*) AS c FROM alumnos WHERE nombre='Luis'\").fetchone()[\"c\"]\n",
    "print(\"¿Existe Luis?\", r == 1)  # False esperado"
   ]
  },
  {
   "cell_type": "markdown",
   "id": "944b0f5b",
   "metadata": {},
   "source": [
    "### 5) Transacciones (COMMIT / ROLLBACK)"
   ]
  },
  {
   "cell_type": "code",
   "execution_count": 6,
   "id": "38c96fb1",
   "metadata": {},
   "outputs": [
    {
     "name": "stdout",
     "output_type": "stream",
     "text": [
      "Error: Fallo simulado -> ROLLBACK\n",
      "Insert temporal persistió? False\n"
     ]
    }
   ],
   "source": [
    "try:\n",
    "    conn.isolation_level = None  # modo manual\n",
    "    conn.execute(\"BEGIN;\")\n",
    "    conn.execute(\"INSERT INTO alumnos(nombre, carrera, nota) VALUES (?, ?, ?)\", (\"Temporal\", \"Big Data\", 5.0))\n",
    "    # Simular error para forzar ROLLBACK\n",
    "    raise RuntimeError(\"Fallo simulado\")\n",
    "    conn.execute(\"COMMIT;\")\n",
    "except Exception as e:\n",
    "    print(\"Error:\", e, \"-> ROLLBACK\")\n",
    "    conn.execute(\"ROLLBACK;\")\n",
    "finally:\n",
    "    conn.isolation_level = \"\"  # vuelve al modo autocommit por defecto\n",
    "\n",
    "existe = conn.execute(\"SELECT COUNT(*) AS c FROM alumnos WHERE nombre='Temporal'\").fetchone()[\"c\"]\n",
    "print(\"Insert temporal persistió?\", existe > 0)  # False esperado"
   ]
  },
  {
   "cell_type": "markdown",
   "id": "9c58086f",
   "metadata": {},
   "source": [
    "### 6) Manejo de excepciones"
   ]
  },
  {
   "cell_type": "code",
   "execution_count": 7,
   "id": "4b408972",
   "metadata": {},
   "outputs": [
    {
     "name": "stdout",
     "output_type": "stream",
     "text": [
      "Excepción capturada: IntegrityError\n"
     ]
    }
   ],
   "source": [
    "try:\n",
    "    with conn:\n",
    "        # Violará el CHECK de nota\n",
    "        conn.execute(\"INSERT INTO alumnos(nombre, carrera, nota) VALUES (?, ?, ?)\", (\"Error\", \"Big Data\", 11.5))\n",
    "except sqlite3.IntegrityError as e:\n",
    "    print(\"Excepción capturada:\", e.__class__.__name__)"
   ]
  },
  {
   "cell_type": "markdown",
   "id": "e27b5df5",
   "metadata": {},
   "source": [
    "### 7) Consultas con agregación y GROUP BY"
   ]
  },
  {
   "cell_type": "code",
   "execution_count": 8,
   "id": "aed77484",
   "metadata": {},
   "outputs": [
    {
     "name": "stdout",
     "output_type": "stream",
     "text": [
      "{'carrera': 'Big Data', 'n': 3, 'prom': 9.3}\n",
      "{'carrera': 'Ciberseguridad', 'n': 1, 'prom': 8.0}\n"
     ]
    }
   ],
   "source": [
    "sql = \"SELECT carrera, COUNT(*) AS n, ROUND(AVG(nota),2) AS prom FROM alumnos GROUP BY carrera ORDER BY prom DESC\"\n",
    "for row in conn.execute(sql):\n",
    "    print(dict(row))"
   ]
  },
  {
   "cell_type": "markdown",
   "id": "98d1cf21",
   "metadata": {},
   "source": [
    "### 8) Índices y EXPLAIN QUERY PLAN"
   ]
  },
  {
   "cell_type": "code",
   "execution_count": 9,
   "id": "827dd679",
   "metadata": {},
   "outputs": [
    {
     "name": "stdout",
     "output_type": "stream",
     "text": [
      "PLAN: [<sqlite3.Row object at 0x000001654858EDA0>] ...\n"
     ]
    }
   ],
   "source": [
    "with conn:\n",
    "    conn.execute(\"CREATE INDEX IF NOT EXISTS idx_alumnos_carrera ON alumnos(carrera);\")\n",
    "plan = conn.execute(\"EXPLAIN QUERY PLAN \" + \"SELECT * FROM alumnos WHERE carrera='Big Data'\").fetchall()\n",
    "print(\"PLAN:\", plan[:3], \"...\")"
   ]
  },
  {
   "cell_type": "markdown",
   "id": "267081f9",
   "metadata": {},
   "source": [
    "### 9) Integración con `pandas` (opcional)"
   ]
  },
  {
   "cell_type": "code",
   "execution_count": 10,
   "id": "55be4bed",
   "metadata": {},
   "outputs": [
    {
     "name": "stderr",
     "output_type": "stream",
     "text": [
      "C:\\Users\\59399\\AppData\\Roaming\\Python\\Python310\\site-packages\\pandas\\core\\arrays\\masked.py:61: UserWarning: Pandas requires version '1.3.6' or newer of 'bottleneck' (version '1.3.5' currently installed).\n",
      "  from pandas.core import (\n"
     ]
    },
    {
     "data": {
      "text/html": [
       "<div>\n",
       "<style scoped>\n",
       "    .dataframe tbody tr th:only-of-type {\n",
       "        vertical-align: middle;\n",
       "    }\n",
       "\n",
       "    .dataframe tbody tr th {\n",
       "        vertical-align: top;\n",
       "    }\n",
       "\n",
       "    .dataframe thead th {\n",
       "        text-align: right;\n",
       "    }\n",
       "</style>\n",
       "<table border=\"1\" class=\"dataframe\">\n",
       "  <thead>\n",
       "    <tr style=\"text-align: right;\">\n",
       "      <th></th>\n",
       "      <th>id</th>\n",
       "      <th>nombre</th>\n",
       "      <th>carrera</th>\n",
       "      <th>nota</th>\n",
       "    </tr>\n",
       "  </thead>\n",
       "  <tbody>\n",
       "    <tr>\n",
       "      <th>0</th>\n",
       "      <td>1</td>\n",
       "      <td>Ana</td>\n",
       "      <td>Big Data</td>\n",
       "      <td>9.2</td>\n",
       "    </tr>\n",
       "    <tr>\n",
       "      <th>1</th>\n",
       "      <td>3</td>\n",
       "      <td>María</td>\n",
       "      <td>Big Data</td>\n",
       "      <td>8.9</td>\n",
       "    </tr>\n",
       "    <tr>\n",
       "      <th>2</th>\n",
       "      <td>4</td>\n",
       "      <td>Pedro</td>\n",
       "      <td>Ciberseguridad</td>\n",
       "      <td>8.0</td>\n",
       "    </tr>\n",
       "    <tr>\n",
       "      <th>3</th>\n",
       "      <td>5</td>\n",
       "      <td>Julia</td>\n",
       "      <td>Big Data</td>\n",
       "      <td>9.8</td>\n",
       "    </tr>\n",
       "  </tbody>\n",
       "</table>\n",
       "</div>"
      ],
      "text/plain": [
       "   id nombre         carrera  nota\n",
       "0   1    Ana        Big Data   9.2\n",
       "1   3  María        Big Data   8.9\n",
       "2   4  Pedro  Ciberseguridad   8.0\n",
       "3   5  Julia        Big Data   9.8"
      ]
     },
     "metadata": {},
     "output_type": "display_data"
    }
   ],
   "source": [
    "# Si no tienes pandas, instala con: !pip install pandas\n",
    "try:\n",
    "    import pandas as pd\n",
    "    df = pd.read_sql_query(\"SELECT id, nombre, carrera, nota FROM alumnos\", conn)\n",
    "    display(df.head())\n",
    "except Exception as e:\n",
    "    print(\"Pandas no disponible:\", e)"
   ]
  },
  {
   "cell_type": "markdown",
   "id": "8255046a",
   "metadata": {},
   "source": [
    "### 10) Cierre de conexión"
   ]
  },
  {
   "cell_type": "code",
   "execution_count": 11,
   "id": "6a17ee0a",
   "metadata": {},
   "outputs": [
    {
     "name": "stdout",
     "output_type": "stream",
     "text": [
      "Conexión cerrada.\n"
     ]
    }
   ],
   "source": [
    "conn.close()\n",
    "print(\"Conexión cerrada.\")"
   ]
  },
  {
   "cell_type": "markdown",
   "id": "5a84f490",
   "metadata": {},
   "source": [
    "### ✅ Prácticas con validación (`assert`)"
   ]
  },
  {
   "cell_type": "code",
   "execution_count": 12,
   "id": "b69a2a92",
   "metadata": {},
   "outputs": [
    {
     "name": "stdout",
     "output_type": "stream",
     "text": [
      "Validaciones OK ✅\n"
     ]
    }
   ],
   "source": [
    "# Re-abrimos conexión solo para validaciones\n",
    "conn = sqlite3.connect(DB_PATH)\n",
    "conn.row_factory = sqlite3.Row\n",
    "\n",
    "# 1) Implementa una función que devuelva el promedio por carrera\n",
    "def promedio_por_carrera(carrera):\n",
    "    row = conn.execute(\n",
    "        \"SELECT AVG(nota) AS prom FROM alumnos WHERE carrera=?\",\n",
    "        (carrera,)\n",
    "    ).fetchone()\n",
    "    return round(row[\"prom\"], 2) if row[\"prom\"] is not None else None\n",
    "\n",
    "# Tests\n",
    "p_bigdata = promedio_por_carrera(\"Big Data\")\n",
    "assert 8.5 <= p_bigdata <= 10.0\n",
    "assert promedio_por_carrera(\"NoExiste\") is None\n",
    "\n",
    "# 2) Verifica que no exista 'Luis' después del DELETE\n",
    "c_luis = conn.execute(\"SELECT COUNT(*) AS c FROM alumnos WHERE nombre='Luis'\").fetchone()[\"c\"]\n",
    "assert c_luis == 0\n",
    "\n",
    "conn.close()\n",
    "print(\"Validaciones OK ✅\")"
   ]
  }
 ],
 "metadata": {
  "kernelspec": {
   "display_name": "base",
   "language": "python",
   "name": "python3"
  },
  "language_info": {
   "codemirror_mode": {
    "name": "ipython",
    "version": 3
   },
   "file_extension": ".py",
   "mimetype": "text/x-python",
   "name": "python",
   "nbconvert_exporter": "python",
   "pygments_lexer": "ipython3",
   "version": "3.10.9"
  }
 },
 "nbformat": 4,
 "nbformat_minor": 5
}
