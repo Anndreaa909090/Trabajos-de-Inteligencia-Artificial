{
 "cells": [
  {
   "cell_type": "markdown",
   "id": "72162da8",
   "metadata": {},
   "source": [
    "# CURSO DE FUNDAMENTOS DE PYTHON  \n",
    "## Base de Datos con **MySQL** desde Python\n",
    "\n",
    "**Objetivos**\n",
    "- Conectar a MySQL con `mysql-connector-python` (o `pymysql` como alternativa).\n",
    "- Crear base, tablas y realizar **CRUD** con consultas **parametrizadas** (`%s`).\n",
    "- Usar **transacciones**, manejo de **excepciones** y **pandas** para análisis.\n",
    "\n",
    "> **Requisitos previos**: tener un servidor MySQL accesible y un usuario con permisos de `CREATE DATABASE`."
   ]
  },
  {
   "cell_type": "markdown",
   "id": "5352d7d3",
   "metadata": {},
   "source": [
    "### 0) Instalación de dependencias"
   ]
  },
  {
   "cell_type": "code",
   "execution_count": null,
   "id": "6bb380d7",
   "metadata": {},
   "outputs": [],
   "source": [
    "# Ejecuta esta celda la primera vez (puede tardar).\n",
    "# Si prefieres PyMySQL, usa: !pip install pymysql\n",
    "#!pip install mysql-connector-python\n",
    "#importar mysql.connector"
   ]
  },
  {
   "cell_type": "markdown",
   "id": "0b00f975",
   "metadata": {},
   "source": [
    "### 1) Conexión"
   ]
  },
  {
   "cell_type": "code",
   "execution_count": null,
   "id": "40923f92",
   "metadata": {},
   "outputs": [
    {
     "name": "stdout",
     "output_type": "stream",
     "text": [
      "Conexión MySQL exitosa.\n"
     ]
    }
   ],
   "source": [
    "#hacer la conexión a la base de datos mostrar un mensaje de error si no se puede conectar\n",
    "             \n"
   ]
  },
  {
   "cell_type": "markdown",
   "id": "1926da84",
   "metadata": {},
   "source": [
    "### 2) Crear base de datos y usarla"
   ]
  },
  {
   "cell_type": "code",
   "execution_count": null,
   "id": "42a3d060",
   "metadata": {},
   "outputs": [
    {
     "name": "stdout",
     "output_type": "stream",
     "text": [
      "Base de datos productosDB creada y seleccionada.\n"
     ]
    }
   ],
   "source": [
    "#crear una base de datos productosDB y usarla y mostrar un mensaje de error si no se puede crear o usar\n",
    "\n"
   ]
  },
  {
   "cell_type": "markdown",
   "id": "cc1d6f10",
   "metadata": {},
   "source": [
    "### 3) Crear tabla (InnoDB)"
   ]
  },
  {
   "cell_type": "code",
   "execution_count": null,
   "id": "8c39f0d9",
   "metadata": {},
   "outputs": [
    {
     "name": "stdout",
     "output_type": "stream",
     "text": [
      "Tabla productos creada.\n"
     ]
    }
   ],
   "source": [
    "#crear una tabla productos y mostrar un mensaje de error si no se puede crear\n",
    "\n",
    "               "
   ]
  },
  {
   "cell_type": "markdown",
   "id": "e2547b86",
   "metadata": {},
   "source": [
    "### 4) INSERT parametrizado"
   ]
  },
  {
   "cell_type": "code",
   "execution_count": null,
   "id": "14b76f28",
   "metadata": {},
   "outputs": [
    {
     "name": "stdout",
     "output_type": "stream",
     "text": [
      "6 registros insertados en la tabla productos.\n"
     ]
    }
   ],
   "source": [
    "#insertar datos desde una lista de tuplas y mostrar un mensaje de error si no se pueden insertar\n",
    "\n"
   ]
  },
  {
   "cell_type": "markdown",
   "id": "d2a6487f",
   "metadata": {},
   "source": [
    "### 5) SELECT, UPDATE, DELETE"
   ]
  },
  {
   "cell_type": "code",
   "execution_count": null,
   "id": "83cbfe5a",
   "metadata": {},
   "outputs": [
    {
     "name": "stdout",
     "output_type": "stream",
     "text": [
      "(1, 'BALON', 20.0, 'DEPORTES')\n",
      "(2, 'ZAPATILLAS', 50.0, 'DEPORTES')\n",
      "(3, 'CAMISETA', 15.0, 'DEPORTES')\n",
      "(4, 'JARRA', 10.0, 'COCINA')\n",
      "(5, 'CUCHILLO', 25.0, 'COCINA')\n",
      "(6, 'TENEDOR', 5.0, 'COCINA')\n"
     ]
    }
   ],
   "source": [
    "#seleccionar datos y mostrarlos\n"
   ]
  },
  {
   "cell_type": "code",
   "execution_count": null,
   "id": "1f23ef92",
   "metadata": {},
   "outputs": [
    {
     "name": "stdout",
     "output_type": "stream",
     "text": [
      "3 registros actualizados en la tabla productos.\n"
     ]
    }
   ],
   "source": [
    "#Actualizar datos y mostrar un mensaje de error si no se pueden actualizar\n"
   ]
  },
  {
   "cell_type": "markdown",
   "id": "5a4223ed",
   "metadata": {},
   "source": [
    "### 7) Integración con `pandas` (opcional)"
   ]
  },
  {
   "cell_type": "code",
   "execution_count": null,
   "id": "87c92be4",
   "metadata": {},
   "outputs": [
    {
     "data": {
      "text/html": [
       "<div>\n",
       "<style scoped>\n",
       "    .dataframe tbody tr th:only-of-type {\n",
       "        vertical-align: middle;\n",
       "    }\n",
       "\n",
       "    .dataframe tbody tr th {\n",
       "        vertical-align: top;\n",
       "    }\n",
       "\n",
       "    .dataframe thead th {\n",
       "        text-align: right;\n",
       "    }\n",
       "</style>\n",
       "<table border=\"1\" class=\"dataframe\">\n",
       "  <thead>\n",
       "    <tr style=\"text-align: right;\">\n",
       "      <th></th>\n",
       "      <th>id</th>\n",
       "      <th>nombre_articulo</th>\n",
       "      <th>precio</th>\n",
       "      <th>seccion</th>\n",
       "    </tr>\n",
       "  </thead>\n",
       "  <tbody>\n",
       "    <tr>\n",
       "      <th>0</th>\n",
       "      <td>1</td>\n",
       "      <td>BALON</td>\n",
       "      <td>22.0</td>\n",
       "      <td>DEPORTES</td>\n",
       "    </tr>\n",
       "    <tr>\n",
       "      <th>1</th>\n",
       "      <td>2</td>\n",
       "      <td>ZAPATILLAS</td>\n",
       "      <td>55.0</td>\n",
       "      <td>DEPORTES</td>\n",
       "    </tr>\n",
       "    <tr>\n",
       "      <th>2</th>\n",
       "      <td>3</td>\n",
       "      <td>CAMISETA</td>\n",
       "      <td>16.5</td>\n",
       "      <td>DEPORTES</td>\n",
       "    </tr>\n",
       "    <tr>\n",
       "      <th>3</th>\n",
       "      <td>4</td>\n",
       "      <td>JARRA</td>\n",
       "      <td>10.0</td>\n",
       "      <td>COCINA</td>\n",
       "    </tr>\n",
       "    <tr>\n",
       "      <th>4</th>\n",
       "      <td>5</td>\n",
       "      <td>CUCHILLO</td>\n",
       "      <td>25.0</td>\n",
       "      <td>COCINA</td>\n",
       "    </tr>\n",
       "    <tr>\n",
       "      <th>5</th>\n",
       "      <td>6</td>\n",
       "      <td>TENEDOR</td>\n",
       "      <td>5.0</td>\n",
       "      <td>COCINA</td>\n",
       "    </tr>\n",
       "  </tbody>\n",
       "</table>\n",
       "</div>"
      ],
      "text/plain": [
       "   id nombre_articulo  precio   seccion\n",
       "0   1           BALON    22.0  DEPORTES\n",
       "1   2      ZAPATILLAS    55.0  DEPORTES\n",
       "2   3        CAMISETA    16.5  DEPORTES\n",
       "3   4           JARRA    10.0    COCINA\n",
       "4   5        CUCHILLO    25.0    COCINA\n",
       "5   6         TENEDOR     5.0    COCINA"
      ]
     },
     "execution_count": 12,
     "metadata": {},
     "output_type": "execute_result"
    }
   ],
   "source": [
    "# Si no tienes pandas: !pip install pandas\n"
   ]
  },
  {
   "cell_type": "markdown",
   "id": "39074692",
   "metadata": {},
   "source": [
    "### 8) Cierre"
   ]
  },
  {
   "cell_type": "code",
   "execution_count": null,
   "id": "2a6e5c94",
   "metadata": {},
   "outputs": [],
   "source": [
    "#Cierrar cursor y conexión\n"
   ]
  },
  {
   "cell_type": "markdown",
   "id": "4774cd1d",
   "metadata": {},
   "source": [
    "### ✅ Retos propuestos (ejecutar si tienes conexión exitosa)\n",
    "- Crear tabla clientes\n",
    "- Crear tabla ventas \n",
    "- Insertar datos por inputs a las diferentes tablas "
   ]
  }
 ],
 "metadata": {
  "kernelspec": {
   "display_name": "base",
   "language": "python",
   "name": "python3"
  },
  "language_info": {
   "codemirror_mode": {
    "name": "ipython",
    "version": 3
   },
   "file_extension": ".py",
   "mimetype": "text/x-python",
   "name": "python",
   "nbconvert_exporter": "python",
   "pygments_lexer": "ipython3",
   "version": "3.10.9"
  }
 },
 "nbformat": 4,
 "nbformat_minor": 5
}
