{
 "cells": [
  {
   "cell_type": "markdown",
   "id": "8821fc05",
   "metadata": {},
   "source": [
    "# CURSO DE FUNDAMENTOS DE PYTHON\n",
    "## ESTRUCTURAS DE CONTROL EN PYTHON"
   ]
  },
  {
   "cell_type": "markdown",
   "id": "19da02e8",
   "metadata": {},
   "source": [
    "## 1. Estructuras condicionales (if / elif / else)"
   ]
  },
  {
   "cell_type": "code",
   "execution_count": null,
   "id": "07650a00",
   "metadata": {},
   "outputs": [
    {
     "name": "stdout",
     "output_type": "stream",
     "text": [
      "Justo 18 años\n"
     ]
    }
   ],
   "source": [
    "# Instrucciones: Usa if, elif y else para verificar la edad e imprimir el estado.\n",
    "\n",
    "\n",
    "\n",
    "# Escribe tu solución aquí\n"
   ]
  },
  {
   "cell_type": "markdown",
   "id": "8777a2c1",
   "metadata": {},
   "source": [
    "## 2. Bucle for"
   ]
  },
  {
   "cell_type": "code",
   "execution_count": null,
   "id": "9e8ddce0",
   "metadata": {},
   "outputs": [
    {
     "name": "stdout",
     "output_type": "stream",
     "text": [
      "Hola Ana\n",
      "Hola Luis\n",
      "Hola María\n"
     ]
    }
   ],
   "source": [
    "# Instrucciones: Recorre la lista con un bucle for e imprime cada nombre.\n",
    "# FOR -> para cada elemento en una colección\n"
   ]
  },
  {
   "cell_type": "markdown",
   "id": "1d8410cb",
   "metadata": {},
   "source": [
    "## 3. Bucle while"
   ]
  },
  {
   "cell_type": "code",
   "execution_count": null,
   "id": "66522f28",
   "metadata": {},
   "outputs": [
    {
     "name": "stdout",
     "output_type": "stream",
     "text": [
      "Iteración: 1\n",
      "Iteración: 2\n",
      "Iteración: 3\n",
      "Iteración: 4\n",
      "Iteración: 5\n"
     ]
    }
   ],
   "source": [
    "# Instrucciones: Usa while para contar del 1 al 5.\n",
    "\n"
   ]
  },
  {
   "cell_type": "markdown",
   "id": "efc0511c",
   "metadata": {},
   "source": [
    "## 4. Control de flujo: break y continue"
   ]
  },
  {
   "cell_type": "code",
   "execution_count": null,
   "id": "a01d8eb4",
   "metadata": {},
   "outputs": [
    {
     "name": "stdout",
     "output_type": "stream",
     "text": [
      "1\n",
      "2\n",
      "4\n"
     ]
    }
   ],
   "source": [
    "# Instrucciones: Usa break y continue en un bucle.\n",
    "#BREAK -> sale del bucle\n",
    "#CONTINUE -> salta a la siguiente iteración del bucle\n"
   ]
  },
  {
   "cell_type": "markdown",
   "id": "f8b252f1",
   "metadata": {},
   "source": [
    "## 5. Iteraciones con range()"
   ]
  },
  {
   "cell_type": "code",
   "execution_count": null,
   "id": "d7c7ca32",
   "metadata": {},
   "outputs": [
    {
     "name": "stdout",
     "output_type": "stream",
     "text": [
      "0\n",
      "2\n",
      "4\n",
      "6\n",
      "8\n",
      "10\n"
     ]
    }
   ],
   "source": [
    "# Instrucciones: Usa range para imprimir los números pares del 0 al 10.\n",
    "#RANGE(inicio, fin, paso)\n"
   ]
  },
  {
   "cell_type": "markdown",
   "id": "2d28af53",
   "metadata": {},
   "source": [
    "## 6. match-case (Python 3.10+)"
   ]
  },
  {
   "cell_type": "code",
   "execution_count": null,
   "id": "811c75a9",
   "metadata": {},
   "outputs": [
    {
     "name": "stdout",
     "output_type": "stream",
     "text": [
      "Miércoles\n"
     ]
    }
   ],
   "source": [
    "# Instrucciones: Usa match-case para clasificar días de la semana.\n",
    "# verificar el día 3 de la semana\n",
    "dia = 3\n"
   ]
  },
  {
   "cell_type": "markdown",
   "id": "23e1b4d6",
   "metadata": {},
   "source": [
    "## 7. Ejercicios de práctica"
   ]
  },
  {
   "cell_type": "markdown",
   "id": "1336951e",
   "metadata": {},
   "source": [
    "### Ejercicio 1\n",
    "Pide un número al usuario e imprime si es positivo, negativo o cero (if/else)."
   ]
  },
  {
   "cell_type": "code",
   "execution_count": null,
   "id": "93998666",
   "metadata": {},
   "outputs": [],
   "source": [
    "# Escribe tu solución aquí\n"
   ]
  },
  {
   "cell_type": "markdown",
   "id": "ca28d62b",
   "metadata": {},
   "source": [
    "### Ejercicio 2\n",
    "Usa un bucle for para imprimir la tabla de multiplicar del 7."
   ]
  },
  {
   "cell_type": "code",
   "execution_count": null,
   "id": "93564df0",
   "metadata": {},
   "outputs": [],
   "source": [
    "# Escribe tu solución aquí\n"
   ]
  },
  {
   "cell_type": "markdown",
   "id": "2cf6c56d",
   "metadata": {},
   "source": [
    "### Ejercicio 3\n",
    "Usa while para contar regresivamente desde 10 hasta 1."
   ]
  },
  {
   "cell_type": "code",
   "execution_count": null,
   "id": "8d3fad1b",
   "metadata": {},
   "outputs": [],
   "source": [
    "# Escribe tu solución aquí\n"
   ]
  },
  {
   "cell_type": "markdown",
   "id": "82d54f66",
   "metadata": {},
   "source": [
    "### Ejercicio 4\n",
    "Recorre una lista de números y usa continue para saltar los pares."
   ]
  },
  {
   "cell_type": "code",
   "execution_count": null,
   "id": "ff8185f4",
   "metadata": {},
   "outputs": [],
   "source": [
    "# Escribe tu solución aquí\n"
   ]
  },
  {
   "cell_type": "markdown",
   "id": "3dc3ab02",
   "metadata": {},
   "source": [
    "### Ejercicio 5\n",
    "Usa break en un bucle while infinito para detenerlo cuando se cumpla una condición."
   ]
  },
  {
   "cell_type": "code",
   "execution_count": null,
   "id": "1af2f093",
   "metadata": {},
   "outputs": [],
   "source": [
    "# Escribe tu solución aquí\n"
   ]
  },
  {
   "cell_type": "markdown",
   "id": "3108f18a",
   "metadata": {},
   "source": [
    "### Ejercicio 6\n",
    "Crea un programa con match-case que pida un mes (1-12) e imprima la estación del año."
   ]
  },
  {
   "cell_type": "code",
   "execution_count": null,
   "id": "58194033",
   "metadata": {},
   "outputs": [],
   "source": [
    "# Escribe tu solución aquí\n"
   ]
  }
 ],
 "metadata": {
  "kernelspec": {
   "display_name": "base",
   "language": "python",
   "name": "python3"
  },
  "language_info": {
   "codemirror_mode": {
    "name": "ipython",
    "version": 3
   },
   "file_extension": ".py",
   "mimetype": "text/x-python",
   "name": "python",
   "nbconvert_exporter": "python",
   "pygments_lexer": "ipython3",
   "version": "3.10.9"
  }
 },
 "nbformat": 4,
 "nbformat_minor": 5
}
